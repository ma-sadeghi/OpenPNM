{
 "cells": [
  {
   "cell_type": "markdown",
   "metadata": {},
   "source": [
    "# Using Workspace and Projects\n",
    "\n",
    "OpenPNM V2.0 implemented new ways to manage and control objects, specifically a *Workspace* and *Projects*. The *Workspace* object is equivalent to a web browser window, while a *Project* object is like tabs inside the browser. Each *Project* is an isolated OpenPNM simulation with a single *Network* object and all associated objects.  All *Projects* are stored in the same *Workspace*.  There can be only 1 *Workspace* open at a given time, so all new projects are registered in the same *Workspace*.  *Projects* and *Workspaces* can be saved and loaded.\n"
   ]
  },
  {
   "cell_type": "code",
   "execution_count": 1,
   "metadata": {},
   "outputs": [],
   "source": [
    "import openpnm as op"
   ]
  },
  {
   "cell_type": "markdown",
   "metadata": {},
   "source": [
    "## Usage of Projects and Workspace\n",
    "\n",
    "Initialize the *Workspace* and save in a variable called ``ws``, and print it to verify that it is currently empty:"
   ]
  },
  {
   "cell_type": "code",
   "execution_count": 2,
   "metadata": {},
   "outputs": [
    {
     "name": "stdout",
     "output_type": "stream",
     "text": [
      "――――――――――――――――――――――――――――――――――――――――――――――――――――――――――――――――――――――――――――――\n",
      "OpenPNM Version 2.3.0 Workspace\n",
      "――――――――――――――――――――――――――――――――――――――――――――――――――――――――――――――――――――――――――――――\n"
     ]
    }
   ],
   "source": [
    "# NBVAL_IGNORE_OUTPUT\n",
    "ws = op.Workspace()\n",
    "print(ws)"
   ]
  },
  {
   "cell_type": "markdown",
   "metadata": {},
   "source": [
    "Next, create a new *Project* and print:"
   ]
  },
  {
   "cell_type": "code",
   "execution_count": 3,
   "metadata": {},
   "outputs": [
    {
     "data": {
      "text/plain": [
       "[]"
      ]
     },
     "execution_count": 3,
     "metadata": {},
     "output_type": "execute_result"
    }
   ],
   "source": [
    "proj = ws.new_project()\n",
    "proj"
   ]
  },
  {
   "cell_type": "markdown",
   "metadata": {},
   "source": [
    "The project is an empty list since there have been no objects created yet.  \n",
    "\n",
    "Now create a new network object with passing in ``proj`` into the initialization:"
   ]
  },
  {
   "cell_type": "code",
   "execution_count": 4,
   "metadata": {},
   "outputs": [],
   "source": [
    "pn = op.network.Cubic(shape=[4, 4, 4], project=proj)"
   ]
  },
  {
   "cell_type": "markdown",
   "metadata": {},
   "source": [
    "Now printing the *Project* via `print(proj)` will include the newly created network:"
   ]
  },
  {
   "cell_type": "raw",
   "metadata": {},
   "source": [
    "――――――――――――――――――――――――――――――――――――――――――――――――――――――――――――――――――――――――――――――\n",
    " Object Name     Object ID                                                        \n",
    "――――――――――――――――――――――――――――――――――――――――――――――――――――――――――――――――――――――――――――――\n",
    " net_01          <openpnm.network.Cubic object at 0x7f1fa56f2d70>                 \n",
    "――――――――――――――――――――――――――――――――――――――――――――――――――――――――――――――――――――――――――――――"
   ]
  },
  {
   "cell_type": "markdown",
   "metadata": {},
   "source": [
    "It is not necessary to create a project *before* creating a network.  Since a project can only have *one* network, then a new project is created each time a network is created if not specified as we did above:"
   ]
  },
  {
   "cell_type": "code",
   "execution_count": 5,
   "metadata": {},
   "outputs": [],
   "source": [
    "pn2 = op.network.Cubic(shape=[4, 4, 4])"
   ]
  },
  {
   "cell_type": "markdown",
   "metadata": {},
   "source": [
    "The project that each object belongs to can be found since each object has a ``project`` attribute. Run `print(pn2.project)`:"
   ]
  },
  {
   "cell_type": "raw",
   "metadata": {},
   "source": [
    "――――――――――――――――――――――――――――――――――――――――――――――――――――――――――――――――――――――――――――――\n",
    " Object Name     Object ID                                                        \n",
    "――――――――――――――――――――――――――――――――――――――――――――――――――――――――――――――――――――――――――――――\n",
    " net_01          <openpnm.network.Cubic object at 0x7f1fa5700830>                 \n",
    "――――――――――――――――――――――――――――――――――――――――――――――――――――――――――――――――――――――――――――――"
   ]
  },
  {
   "cell_type": "markdown",
   "metadata": {},
   "source": [
    "Finally, you can view all active projects by printing the workspace via `print(ws)`:"
   ]
  },
  {
   "cell_type": "raw",
   "metadata": {},
   "source": [
    "――――――――――――――――――――――――――――――――――――――――――――――――――――――――――――――――――――――――――――――\n",
    "OpenPNM Version 2.2.0 Workspace\n",
    "――――――――――――――――――――――――――――――――――――――――――――――――――――――――――――――――――――――――――――――\n",
    " proj_02\n",
    "――――――――――――――――――――――――――――――――――――――――――――――――――――――――――――――――――――――――――――――\n",
    " Object Name     Object ID                                                        \n",
    "――――――――――――――――――――――――――――――――――――――――――――――――――――――――――――――――――――――――――――――\n",
    " net_01          <openpnm.network.Cubic object at 0x7f1fa5700830>                 \n",
    "――――――――――――――――――――――――――――――――――――――――――――――――――――――――――――――――――――――――――――――"
   ]
  },
  {
   "cell_type": "markdown",
   "metadata": {},
   "source": [
    "A project can be purged from the workspace via `ws.close_project(proj)`. Let's print workspace again, `print(ws)`:"
   ]
  },
  {
   "cell_type": "raw",
   "metadata": {},
   "source": [
    "――――――――――――――――――――――――――――――――――――――――――――――――――――――――――――――――――――――――――――――\n",
    "OpenPNM Version 2.2.0 Workspace\n",
    "――――――――――――――――――――――――――――――――――――――――――――――――――――――――――――――――――――――――――――――\n",
    " proj_02\n",
    "――――――――――――――――――――――――――――――――――――――――――――――――――――――――――――――――――――――――――――――\n",
    " Object Name     Object ID                                                        \n",
    "――――――――――――――――――――――――――――――――――――――――――――――――――――――――――――――――――――――――――――――\n",
    " net_01          <openpnm.network.Cubic object at 0x7f1fa5700830>                 \n",
    "――――――――――――――――――――――――――――――――――――――――――――――――――――――――――――――――――――――――――――――"
   ]
  },
  {
   "cell_type": "markdown",
   "metadata": {},
   "source": [
    "## Design of Workspace and Project Classes\n",
    "\n",
    "It is worth describing the design of these classes to help explain how they work.  The workspace is a ``dict`` subclass while the project is a ``list`` subclass.  Each subclass has numerous methods added to aid in the management of the objects. \n",
    "\n",
    "In the Workspace ``dict`` each project object is stored by name in each 'key: value' pair.  Printing the workspace gives a nicely formatted output as shown above, but the basic command-line representation gives its true structure via running `ws` in the command-line:"
   ]
  },
  {
   "cell_type": "raw",
   "metadata": {},
   "source": [
    "{'proj_02': [<openpnm.network.Cubic object at 0x7f1fa5700830>]}\n"
   ]
  },
  {
   "cell_type": "markdown",
   "metadata": {},
   "source": [
    "Where the only project in the workspace is ``'proj_02'``, and it is a list that contains only a single Cubic network object."
   ]
  }
 ],
 "metadata": {
  "kernelspec": {
   "display_name": "Python 3",
   "language": "python",
   "name": "python3"
  },
  "language_info": {
   "codemirror_mode": {
    "name": "ipython",
    "version": 3
   },
   "file_extension": ".py",
   "mimetype": "text/x-python",
   "name": "python",
   "nbconvert_exporter": "python",
   "pygments_lexer": "ipython3",
   "version": "3.7.3"
  }
 },
 "nbformat": 4,
 "nbformat_minor": 2
}
