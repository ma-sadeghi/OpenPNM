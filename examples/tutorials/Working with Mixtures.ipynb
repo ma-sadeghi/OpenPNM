{
 "cells": [
  {
   "cell_type": "markdown",
   "metadata": {},
   "source": [
    "# Working with Mixtures\n",
    "\n",
    "In version 2.1, OpenPNM introduced a new *Mixture* class, which as the name suggests, combines the properties of several phases into a single mixture.  The most common example would be diffusion of oxygen in air, which is of course a mixture of $O_2$ and $N_2$ (ignoring humidity and other minor gases like $CO_2$).  The basic premise is that you create normal OpenPNM *Phase* object for each of the pure components, then create a *Mixture* object where you specify the composition of each species.  The mixture object then provides an interface to manage the properties of each species, such as setting the composition or calculating the molar mass of the mixture.  The notebook gives an overview of how this *Mixture* class works."
   ]
  },
  {
   "cell_type": "markdown",
   "metadata": {},
   "source": [
    "> **What problems does the Mixture class solve?** It actually solves three problems or points of confusion, which can be illustrated by considering the diffusion of oxygen in air. In traditional OpenPNM scripts, a user creates a ``GenericPhase`` object, called *air*, and specifies a diffusion coefficient (say 2.05e-5 m2/s). This *air* object is then used in the ``FickianDiffusion`` algorithm which finds 'pore.concentration', but only the user actually knows which species this refers to. OpenPNM just solves the problem with given boundary conditions. Assuming air has a total molar concentration of 40,000 mol/m3, by putting a boundary condition of 5000 mol/m3, you are implicitly telling OpenPNM to solve for oxygen. Had you put 35000 mol/m3, you'd have solved for nitrogen concentration. The new mixture class is fully compatible with existing algorithms, but you would need to override the default quantity from 'pore.concentration' to 'pore.concentration.oxygen'.  Nothing really changes except it is now fully explicity and transparent what is being solved for.  The second benefit is for calculating physical properties of the phase.  A traditional ``GenericPhase`` object does not know the physical properties of it's components. Consider the Fuller correlation for binary diffusion coefficients. It requires the \"molar diffusion volume\" for each species, which are tabulated in handbooks. The traditional Fuller diffusion model in the ``OpenPNM.models`` library accepts these values as arguments. A new model has been added that looks for these values stored on the each of the component objects. So the new approach allows for more automated and consistent calculation of mixture properties, rather than manually specifying them. Again, this is most a matter of clarity and convenience.  Finally, the mixture class allows for the specification of mulitple concentations.  When dealing with a binary phase like are it's possible to implicitly assume that 'pore.concentration' refers to oxygen, and that the nitrogen concentration can be found. In a mixture with three or more components knowing a single composition is no longer sufficient, so it becomes a matter of necessity to specify multiple concentrations, which the mixture class allows by appending the component name to the end of the property (i.e. 'pore.concentration.oxygen' and 'pore.concentration.nitrogen' and 'pore.concentration.water_vapor')"
   ]
  },
  {
   "cell_type": "code",
   "execution_count": 1,
   "metadata": {},
   "outputs": [],
   "source": [
    "import openpnm as op\n",
    "ws = op.Workspace()\n",
    "ws.settings['loglevel'] = 40"
   ]
  },
  {
   "cell_type": "markdown",
   "metadata": {},
   "source": [
    "Start by defining a simple 2D network (for easier visualization):"
   ]
  },
  {
   "cell_type": "code",
   "execution_count": 2,
   "metadata": {},
   "outputs": [],
   "source": [
    "pn = op.network.Cubic(shape=[4, 4], spacing=0.001)\n",
    "geo = op.geometry.StickAndBall(network=pn, pores=pn.Ps, throats=pn.Ts)"
   ]
  },
  {
   "cell_type": "markdown",
   "metadata": {},
   "source": [
    "In principle, you can define the two pure species as ``GenericPhase`` objects, but this leads to problems later since you have to add all the needed physical properties (i.e. molecular weight).  A better option is to use the the pre-defined classes in the ``OpenPNM.mixture`` submodule.  Note that this is *not* imported with OpenPNM by default so you must import it explicitly:"
   ]
  },
  {
   "cell_type": "code",
   "execution_count": 3,
   "metadata": {},
   "outputs": [],
   "source": [
    "from openpnm.phases import mixtures\n",
    "O2 = mixtures.species.gases.O2(network=pn, name='oxygen')\n",
    "N2 = mixtures.species.gases.N2(network=pn, name='nitrogen')"
   ]
  },
  {
   "cell_type": "markdown",
   "metadata": {},
   "source": [
    "These species objects do not have many pre-defined properties, but this could grow in the future.  "
   ]
  },
  {
   "cell_type": "code",
   "execution_count": 4,
   "metadata": {},
   "outputs": [
    {
     "name": "stdout",
     "output_type": "stream",
     "text": [
      "――――――――――――――――――――――――――――――――――――――――――――――――――――――――――――――――――――――――――――――\n",
      "openpnm.phases.mixtures.species.gases.O2 : oxygen\n",
      "――――――――――――――――――――――――――――――――――――――――――――――――――――――――――――――――――――――――――――――\n",
      "#     Properties                                    Valid Values\n",
      "――――――――――――――――――――――――――――――――――――――――――――――――――――――――――――――――――――――――――――――\n",
      "1     pore.molar_diffusion_volume                      16 / 16   \n",
      "2     pore.molecular_weight                            16 / 16   \n",
      "――――――――――――――――――――――――――――――――――――――――――――――――――――――――――――――――――――――――――――――\n",
      "#     Labels                                        Assigned Locations\n",
      "――――――――――――――――――――――――――――――――――――――――――――――――――――――――――――――――――――――――――――――\n",
      "1     pore.all                                      16        \n",
      "2     throat.all                                    24        \n",
      "――――――――――――――――――――――――――――――――――――――――――――――――――――――――――――――――――――――――――――――\n"
     ]
    }
   ],
   "source": [
    "print(O2)"
   ]
  },
  {
   "cell_type": "markdown",
   "metadata": {},
   "source": [
    "It's also possible for users to add their own specific properties to each species.  For instance, if you have a correlation that requires the critical temperature and/or pressure of the components, you could easily add:"
   ]
  },
  {
   "cell_type": "code",
   "execution_count": 5,
   "metadata": {},
   "outputs": [
    {
     "name": "stdout",
     "output_type": "stream",
     "text": [
      "――――――――――――――――――――――――――――――――――――――――――――――――――――――――――――――――――――――――――――――\n",
      "openpnm.phases.mixtures.species.gases.O2 : oxygen\n",
      "――――――――――――――――――――――――――――――――――――――――――――――――――――――――――――――――――――――――――――――\n",
      "#     Properties                                    Valid Values\n",
      "――――――――――――――――――――――――――――――――――――――――――――――――――――――――――――――――――――――――――――――\n",
      "1     pore.critical_pressure                           16 / 16   \n",
      "2     pore.critical_temperature                        16 / 16   \n",
      "3     pore.molar_diffusion_volume                      16 / 16   \n",
      "4     pore.molecular_weight                            16 / 16   \n",
      "――――――――――――――――――――――――――――――――――――――――――――――――――――――――――――――――――――――――――――――\n",
      "#     Labels                                        Assigned Locations\n",
      "――――――――――――――――――――――――――――――――――――――――――――――――――――――――――――――――――――――――――――――\n",
      "1     pore.all                                      16        \n",
      "2     throat.all                                    24        \n",
      "――――――――――――――――――――――――――――――――――――――――――――――――――――――――――――――――――――――――――――――\n"
     ]
    }
   ],
   "source": [
    "O2['pore.critical_temperature'] = 154.581\n",
    "O2['pore.critical_pressure'] = 5043000.0\n",
    "N2['pore.critical_temperature'] = 126.21\n",
    "N2['pore.critical_pressure'] = 3390000.0\n",
    "print(O2)"
   ]
  },
  {
   "cell_type": "markdown",
   "metadata": {},
   "source": [
    "With the two 'pure' phases defined, we can now create the mixture phase.  "
   ]
  },
  {
   "cell_type": "code",
   "execution_count": 6,
   "metadata": {},
   "outputs": [],
   "source": [
    "air = mixtures.GenericMixture(network=pn, components=[N2, O2])\n"
   ]
  },
  {
   "cell_type": "markdown",
   "metadata": {},
   "source": [
    "Now we can print the ``air`` object and see how the properties of the mixture are represented, as well as a list of the components that make the phas (at the bottom):"
   ]
  },
  {
   "cell_type": "code",
   "execution_count": 7,
   "metadata": {},
   "outputs": [
    {
     "name": "stdout",
     "output_type": "stream",
     "text": [
      "――――――――――――――――――――――――――――――――――――――――――――――――――――――――――――――――――――――――――――――\n",
      "openpnm.phases.mixtures.GenericMixture : mix_03\n",
      "――――――――――――――――――――――――――――――――――――――――――――――――――――――――――――――――――――――――――――――\n",
      "#     Properties                                    Valid Values\n",
      "――――――――――――――――――――――――――――――――――――――――――――――――――――――――――――――――――――――――――――――\n",
      "1     pore.mole_fraction.all                            0 / 16   \n",
      "2     pore.mole_fraction.nitrogen                       0 / 16   \n",
      "3     pore.mole_fraction.oxygen                         0 / 16   \n",
      "4     pore.pressure                                    16 / 16   \n",
      "5     pore.temperature                                 16 / 16   \n",
      "――――――――――――――――――――――――――――――――――――――――――――――――――――――――――――――――――――――――――――――\n",
      "#     Labels                                        Assigned Locations\n",
      "――――――――――――――――――――――――――――――――――――――――――――――――――――――――――――――――――――――――――――――\n",
      "1     pore.all                                      16        \n",
      "2     throat.all                                    24        \n",
      "――――――――――――――――――――――――――――――――――――――――――――――――――――――――――――――――――――――――――――――\n",
      "Component Phases\n",
      "――――――――――――――――――――――――――――――――――――――――――――――――――――――――――――――――――――――――――――――\n",
      "openpnm.phases.mixtures.species.gases.N2 : nitrogen\n",
      "openpnm.phases.mixtures.species.gases.O2 : oxygen\n",
      "――――――――――――――――――――――――――――――――――――――――――――――――――――――――――――――――――――――――――――――\n"
     ]
    }
   ],
   "source": [
    "print(air)"
   ]
  },
  {
   "cell_type": "markdown",
   "metadata": {},
   "source": [
    "If you have the handle to a mixture, but not to the components, they can be retrieved from the ``components`` attribute, which is a dictionary.  "
   ]
  },
  {
   "cell_type": "code",
   "execution_count": 8,
   "metadata": {},
   "outputs": [
    {
     "data": {
      "text/plain": [
       "dict_keys(['nitrogen', 'oxygen'])"
      ]
     },
     "execution_count": 8,
     "metadata": {},
     "output_type": "execute_result"
    }
   ],
   "source": [
    "air.components.keys()"
   ]
  },
  {
   "cell_type": "markdown",
   "metadata": {},
   "source": [
    "From the printout of ``air`` above we can see that the two components are named 'oxygen' and 'nitrogen' so we can do the following:"
   ]
  },
  {
   "cell_type": "code",
   "execution_count": 9,
   "metadata": {},
   "outputs": [],
   "source": [
    "O2 = air.components['oxygen']\n",
    "N2 = air.components['nitrogen']"
   ]
  },
  {
   "cell_type": "markdown",
   "metadata": {},
   "source": [
    "It's possible to add and remove components after instantiation using the ``set_component`` method:"
   ]
  },
  {
   "cell_type": "code",
   "execution_count": 10,
   "metadata": {},
   "outputs": [
    {
     "name": "stdout",
     "output_type": "stream",
     "text": [
      "After deleting O2, there is just N2:\n",
      "dict_keys(['nitrogen'])\n",
      "And O2 can be readded:\n",
      "dict_keys(['nitrogen', 'oxygen'])\n"
     ]
    }
   ],
   "source": [
    "air.set_component(component=O2, mode='remove')\n",
    "print(\"After deleting O2, there is just N2:\")\n",
    "print(air.components.keys())\n",
    "air.set_component(component=O2, mode='add')\n",
    "print(\"And O2 can be readded:\")\n",
    "print(air.components.keys())"
   ]
  },
  {
   "cell_type": "markdown",
   "metadata": {},
   "source": [
    "Of course, the ``air`` object needs to know the concentration of each species.  The *Mixture* class has a method for setting this."
   ]
  },
  {
   "cell_type": "code",
   "execution_count": 11,
   "metadata": {},
   "outputs": [],
   "source": [
    "air.set_mole_fraction(component=O2, values=0.21)"
   ]
  },
  {
   "cell_type": "markdown",
   "metadata": {},
   "source": [
    "As can be seen above, the ``'pore.mole_fraction'`` property has the pure component name appended to the end so we can tell them apart.  We can also look at the values within each array to confirm they are correct:"
   ]
  },
  {
   "cell_type": "code",
   "execution_count": 12,
   "metadata": {},
   "outputs": [
    {
     "name": "stdout",
     "output_type": "stream",
     "text": [
      "[0.21 0.21 0.21 0.21 0.21 0.21 0.21 0.21 0.21 0.21 0.21 0.21 0.21 0.21\n",
      " 0.21 0.21]\n"
     ]
    }
   ],
   "source": [
    "print(air['pore.mole_fraction.oxygen'])"
   ]
  },
  {
   "cell_type": "markdown",
   "metadata": {},
   "source": [
    "Note that you only need to specify *N-1* mole fractions and the *N-th* one can be determined.  As N2 composition is not yet specified it will be all *nans*."
   ]
  },
  {
   "cell_type": "code",
   "execution_count": 13,
   "metadata": {},
   "outputs": [
    {
     "name": "stdout",
     "output_type": "stream",
     "text": [
      "[nan nan nan nan nan nan nan nan nan nan nan nan nan nan nan nan]\n"
     ]
    }
   ],
   "source": [
    "print(air['pore.mole_fraction.nitrogen'])"
   ]
  },
  {
   "cell_type": "markdown",
   "metadata": {},
   "source": [
    "But the ``update_mole_fractions`` method will find the component with *nans* as set them to the necessary value for the summation of mole fractions to be 1.0 in all pores."
   ]
  },
  {
   "cell_type": "code",
   "execution_count": 14,
   "metadata": {},
   "outputs": [
    {
     "name": "stdout",
     "output_type": "stream",
     "text": [
      "[0.79 0.79 0.79 0.79 0.79 0.79 0.79 0.79 0.79 0.79 0.79 0.79 0.79 0.79\n",
      " 0.79 0.79]\n"
     ]
    }
   ],
   "source": [
    "air.update_mole_fractions()\n",
    "print(air['pore.mole_fraction.nitrogen'])"
   ]
  },
  {
   "cell_type": "markdown",
   "metadata": {},
   "source": [
    "The mixture object also has a few pore-scale models pre-added, such as the ability to find the molecular mass of the mixture:"
   ]
  },
  {
   "cell_type": "code",
   "execution_count": 15,
   "metadata": {},
   "outputs": [
    {
     "data": {
      "text/plain": [
       "array([0.02884, 0.02884, 0.02884, 0.02884, 0.02884, 0.02884, 0.02884,\n",
       "       0.02884, 0.02884, 0.02884, 0.02884, 0.02884, 0.02884, 0.02884,\n",
       "       0.02884, 0.02884])"
      ]
     },
     "execution_count": 15,
     "metadata": {},
     "output_type": "execute_result"
    }
   ],
   "source": [
    "air['pore.molar_mass']"
   ]
  },
  {
   "cell_type": "markdown",
   "metadata": {},
   "source": [
    "The molar mass model uses the mole fraction of each component on the mixture object (illustrated above) and also looks up the molecular weight from each individual species.  This is why it's helpful to use the pre-defined species objects in the ``mixtures`` submodule since they have some properties of the pure species included."
   ]
  },
  {
   "cell_type": "markdown",
   "metadata": {},
   "source": [
    "The mixture object is able to access the information of it's components using the following:"
   ]
  },
  {
   "cell_type": "code",
   "execution_count": 16,
   "metadata": {},
   "outputs": [
    {
     "data": {
      "text/plain": [
       "array([0.032, 0.032, 0.032, 0.032, 0.032, 0.032, 0.032, 0.032, 0.032,\n",
       "       0.032, 0.032, 0.032, 0.032, 0.032, 0.032, 0.032])"
      ]
     },
     "execution_count": 16,
     "metadata": {},
     "output_type": "execute_result"
    }
   ],
   "source": [
    "air['pore.molecular_weight.oxygen']"
   ]
  },
  {
   "cell_type": "markdown",
   "metadata": {},
   "source": [
    "Now let's see the *mixture* class in action with a ``FickianDiffusion`` algorithm.  First let's define a *physics* object:"
   ]
  },
  {
   "cell_type": "code",
   "execution_count": 17,
   "metadata": {},
   "outputs": [],
   "source": [
    "phys = op.physics.GenericPhysics(network=pn, phase=air, geometry=geo)"
   ]
  },
  {
   "cell_type": "markdown",
   "metadata": {},
   "source": [
    "*Before* add a pore-scale model for diffusive conductance, however, let's consider the diffusion coefficient.  We know that the diffusion coefficient of O2 in air is 2.05e-5 m2/s, so we *could* just hard code that in.  But a better way is to use the Fuller correlation.  This is implemented in OpenPNM in 2 ways.  The first way requires passing in the *molar diffusion volume* and *molecular mass* of each species as arguments:"
   ]
  },
  {
   "cell_type": "code",
   "execution_count": 18,
   "metadata": {},
   "outputs": [
    {
     "data": {
      "text/plain": [
       "array([17.9, 17.9, 17.9, 17.9, 17.9, 17.9, 17.9, 17.9, 17.9, 17.9, 17.9,\n",
       "       17.9, 17.9, 17.9, 17.9, 17.9])"
      ]
     },
     "execution_count": 18,
     "metadata": {},
     "output_type": "execute_result"
    }
   ],
   "source": [
    "N2['pore.molar_diffusion_volume']"
   ]
  },
  {
   "cell_type": "code",
   "execution_count": 19,
   "metadata": {},
   "outputs": [
    {
     "name": "stdout",
     "output_type": "stream",
     "text": [
      "[2.06754784e-05 2.06754784e-05 2.06754784e-05 2.06754784e-05\n",
      " 2.06754784e-05 2.06754784e-05 2.06754784e-05 2.06754784e-05\n",
      " 2.06754784e-05 2.06754784e-05 2.06754784e-05 2.06754784e-05\n",
      " 2.06754784e-05 2.06754784e-05 2.06754784e-05 2.06754784e-05]\n"
     ]
    }
   ],
   "source": [
    "mod = op.models.phases.diffusivity.fuller\n",
    "air.add_model(propname='pore.diffusivity_old',\n",
    "              model=mod, MA=0.032, MB=0.028, vA=16.6, vB=17.9)\n",
    "print(air['pore.diffusivity_old'])"
   ]
  },
  {
   "cell_type": "markdown",
   "metadata": {},
   "source": [
    "This produces a pretty good estimate, but requires looking up the molar diffusion volumes and masses.  The species objects already have this information on them, so OpenPNM provides a second version of the Fuller correlation that automatically retrieves it:"
   ]
  },
  {
   "cell_type": "code",
   "execution_count": 20,
   "metadata": {},
   "outputs": [
    {
     "name": "stdout",
     "output_type": "stream",
     "text": [
      "[2.06754784e-05 2.06754784e-05 2.06754784e-05 2.06754784e-05\n",
      " 2.06754784e-05 2.06754784e-05 2.06754784e-05 2.06754784e-05\n",
      " 2.06754784e-05 2.06754784e-05 2.06754784e-05 2.06754784e-05\n",
      " 2.06754784e-05 2.06754784e-05 2.06754784e-05 2.06754784e-05]\n"
     ]
    }
   ],
   "source": [
    "mod = op.models.phases.mixtures.fuller_diffusivity\n",
    "air.add_model(propname='pore.diffusivity',\n",
    "              model=mod)\n",
    "print(air['pore.diffusivity'])"
   ]
  },
  {
   "cell_type": "markdown",
   "metadata": {},
   "source": [
    "As can be seen, this is much cleaner and produces the same numbers."
   ]
  },
  {
   "cell_type": "markdown",
   "metadata": {},
   "source": [
    "Now we can add the diffusive conductance model to the physics object and run the diffusion simulation:"
   ]
  },
  {
   "cell_type": "code",
   "execution_count": 21,
   "metadata": {},
   "outputs": [],
   "source": [
    "phys.add_model(propname='throat.diffusive_conductance',\n",
    "               model=op.models.physics.diffusive_conductance.ordinary_diffusion)"
   ]
  },
  {
   "cell_type": "code",
   "execution_count": 22,
   "metadata": {},
   "outputs": [],
   "source": [
    "fd = op.algorithms.FickianDiffusion(network=pn)\n",
    "fd.setup(phase=air, quantity='pore.concentration.oxgyen')\n",
    "fd.set_value_BC(pores=pn.pores('left'), values=1)\n",
    "fd.set_value_BC(pores=pn.pores('right'), values=0)\n",
    "fd.run()"
   ]
  },
  {
   "cell_type": "markdown",
   "metadata": {},
   "source": [
    "Printing the algorithm object reveals that it did indeed solve for 'pore.concentration.oxygen' as desired."
   ]
  },
  {
   "cell_type": "code",
   "execution_count": 23,
   "metadata": {},
   "outputs": [
    {
     "name": "stdout",
     "output_type": "stream",
     "text": [
      "――――――――――――――――――――――――――――――――――――――――――――――――――――――――――――――――――――――――――――――\n",
      "openpnm.algorithms.FickianDiffusion : alg_01\n",
      "――――――――――――――――――――――――――――――――――――――――――――――――――――――――――――――――――――――――――――――\n",
      "#     Properties                                    Valid Values\n",
      "――――――――――――――――――――――――――――――――――――――――――――――――――――――――――――――――――――――――――――――\n",
      "1     pore.bc_rate                                      0 / 16   \n",
      "2     pore.bc_value                                     8 / 16   \n",
      "3     pore.concentration.oxgyen                        16 / 16   \n",
      "4     pore.initial_guess                               16 / 16   \n",
      "――――――――――――――――――――――――――――――――――――――――――――――――――――――――――――――――――――――――――――――\n",
      "#     Labels                                        Assigned Locations\n",
      "――――――――――――――――――――――――――――――――――――――――――――――――――――――――――――――――――――――――――――――\n",
      "1     pore.all                                      16        \n",
      "2     throat.all                                    24        \n",
      "――――――――――――――――――――――――――――――――――――――――――――――――――――――――――――――――――――――――――――――\n"
     ]
    }
   ],
   "source": [
    "print(fd)"
   ]
  }
 ],
 "metadata": {
  "kernelspec": {
   "display_name": "Python 3",
   "language": "python",
   "name": "python3"
  },
  "language_info": {
   "codemirror_mode": {
    "name": "ipython",
    "version": 3
   },
   "file_extension": ".py",
   "mimetype": "text/x-python",
   "name": "python",
   "nbconvert_exporter": "python",
   "pygments_lexer": "ipython3",
   "version": "3.8.5"
  }
 },
 "nbformat": 4,
 "nbformat_minor": 2
}
