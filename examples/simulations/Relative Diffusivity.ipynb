{
 "cells": [
  {
   "cell_type": "markdown",
   "metadata": {},
   "source": [
    "# Relative Diffusivity\n",
    "\n",
    "## Generating the Network, adding Geometry and creating Phases\n",
    "\n",
    "This example shows you how to calculate a transport property relative to the saturation of the domain by a particular phase. In this case the property is the diffusivity of air relative to the saturation of water. Start by importing OpenPNM and some other useful packages:"
   ]
  },
  {
   "cell_type": "code",
   "execution_count": 1,
   "metadata": {},
   "outputs": [],
   "source": [
    "import numpy as np\n",
    "import openpnm as op\n",
    "import matplotlib.pyplot as plt\n",
    "%matplotlib inline\n",
    "ws = op.Workspace()\n",
    "np.random.seed(10)\n",
    "ws.settings[\"loglevel\"] = 40\n",
    "np.set_printoptions(precision=5)"
   ]
  },
  {
   "cell_type": "markdown",
   "metadata": {},
   "source": [
    "Next create a **Network** object with a cubic topology and lattice spacing of 25 microns and add boundary pores"
   ]
  },
  {
   "cell_type": "code",
   "execution_count": 2,
   "metadata": {},
   "outputs": [],
   "source": [
    "pn = op.network.Cubic(shape=[20, 20, 20], spacing=25e-6)"
   ]
  },
  {
   "cell_type": "markdown",
   "metadata": {},
   "source": [
    "Next create a **Geometry** to manage the pore and throat size information.  A **Geometry** can span over a part of the **Network** only, so we need to specify to which pores and throats this **Geometry** object should apply. "
   ]
  },
  {
   "cell_type": "code",
   "execution_count": 3,
   "metadata": {},
   "outputs": [],
   "source": [
    "geom = op.geometry.StickAndBall(network=pn, pores=pn.Ps, throats=pn.Ts)"
   ]
  },
  {
   "cell_type": "markdown",
   "metadata": {},
   "source": [
    "The ``StickAndBall`` **Geometry** is a predefined class that applies randomly distributed pore and throat sizes to the internal pores. The ``Boundary`` class is predefined with properties suitable for boundaries such as 0 volume and length.  "
   ]
  },
  {
   "cell_type": "markdown",
   "metadata": {},
   "source": [
    "We must also create the **Phase** objects, for our purposes the standard ``air`` and ``water`` phase classes provided are fine:"
   ]
  },
  {
   "cell_type": "code",
   "execution_count": 4,
   "metadata": {},
   "outputs": [],
   "source": [
    "air = op.phases.Air(network=pn, name='air')\n",
    "water = op.phases.Water(network=pn, name='water')"
   ]
  },
  {
   "cell_type": "markdown",
   "metadata": {},
   "source": [
    "## Define the Pore-Scale Physics\n",
    "\n",
    "For this simulation the **Standard** physics object can be used as it contains capillary pressure for use in the percolation algorithm and diffusive conductance for use in the ``FickianDiffusion`` algorithm."
   ]
  },
  {
   "cell_type": "code",
   "execution_count": 5,
   "metadata": {},
   "outputs": [],
   "source": [
    "phys_air = op.physics.Standard(network=pn, phase=air, geometry=geom)\n",
    "phys_water = op.physics.Standard(network=pn, phase=water, geometry=geom)"
   ]
  },
  {
   "cell_type": "markdown",
   "metadata": {},
   "source": [
    "## Set up and run the Percolation Algorithm\n",
    "In order to simulate a partially saturated material we first invade some non-wetting phase.  This will be accomplished using the ``InvasonPercolation`` **Algorithm** which invades the network with an invading phase based on the capillary pressure of the throats in the network. This gives us the sequence at which pores and throats are invaded.  "
   ]
  },
  {
   "cell_type": "code",
   "execution_count": 6,
   "metadata": {},
   "outputs": [],
   "source": [
    "OP_1 = op.algorithms.OrdinaryPercolation(network=pn)\n",
    "OP_1.setup(phase=water, pore_volume='pore.volume', throat_volume='throat.volume')\n",
    "OP_1.set_inlets(pn.pores('back'))\n",
    "OP_1.run()"
   ]
  },
  {
   "cell_type": "markdown",
   "metadata": {},
   "source": [
    "Here we have selected half of the boundary pores at the bottom of the domain as inlets for the percolation **Algorithm**. ``OrdinaryPercolation`` has a helpful plotting function which displays the saturation of the invading phase (volume fraction of the pore space) vs. capillary pressure:"
   ]
  },
  {
   "cell_type": "code",
   "execution_count": 7,
   "metadata": {},
   "outputs": [
    {
     "data": {
      "image/png": "[encoded data removed]",
      "text/plain": [
       "<Figure size 432x288 with 1 Axes>"
      ]
     },
     "metadata": {
      "needs_background": "light"
     },
     "output_type": "display_data"
    }
   ],
   "source": [
    "# NBVAL_IGNORE_OUTPUT\n",
    "import numpy as np\n",
    "fig = OP_1.plot_intrusion_curve()"
   ]
  },
  {
   "cell_type": "markdown",
   "metadata": {},
   "source": [
    "Let's look at the raw data:"
   ]
  },
  {
   "cell_type": "code",
   "execution_count": 8,
   "metadata": {},
   "outputs": [
    {
     "name": "stdout",
     "output_type": "stream",
     "text": [
      "Capillary pressure (Pa): [ 5654.90289  6310.77113  7042.70843  7859.53744  8771.10411  9788.3963\n",
      " 10923.67632 12190.62863 13604.5249  15182.40801 16943.29752 18908.41892\n",
      " 21101.45947 23548.85376 26280.10229 29328.1271  32729.66863 36525.72852\n",
      " 40762.0639  45489.73889 50765.74016 56653.66381 63224.48196 70557.39825\n",
      " 78740.8025 ]\n",
      "Invading phase saturation: [0.      0.      0.      0.      0.      0.      0.      0.00533 0.02335\n",
      " 0.31475 0.59966 0.71406 0.78904 0.85109 0.89932 0.93632 0.96494 0.98731\n",
      " 1.      1.      1.      1.      1.      1.      1.     ]\n"
     ]
    }
   ],
   "source": [
    "ax = fig.get_axes()[0]\n",
    "Pc = ax.lines[0].get_xdata()\n",
    "Sat = ax.lines[0].get_ydata()\n",
    "print(f\"Capillary pressure (Pa): {Pc}\")\n",
    "print(f\"Invading phase saturation: {Sat}\")"
   ]
  },
  {
   "cell_type": "markdown",
   "metadata": {},
   "source": [
    "## Run a Fickian Diffusion Algorithm for each step of the invasion process\n",
    "\n",
    "We now need to model how the presence of the phases affects the diffusive conductivity of the network. Currently the **Physics** objects have a property called ``throat.diffusive_conductance`` but this model does not account for the occupancy of each phase and assumes that the phase occupies every pore-throat-pore conduit. OpenPNM has a number of multiphase models including a conduit conductance that multiplies the single phase conductance by a factor (default 0.000001) when the phase associated with the physics object is not present. The model has a mode which defaults to 'strict' which applies the conductivity reduction if any one of the connected pores or connecting throat is unoccupied."
   ]
  },
  {
   "cell_type": "code",
   "execution_count": 9,
   "metadata": {},
   "outputs": [],
   "source": [
    "import openpnm.models.physics as pm\n",
    "water.update(OP_1.results(Pc=10000))\n",
    "air.update(OP_1.results(Pc=10000))\n",
    "phys_air.add_model(model=pm.multiphase.conduit_conductance,\n",
    "                   propname='throat.conduit_diffusive_conductance',\n",
    "                   throat_conductance='throat.diffusive_conductance')\n",
    "phys_water.add_model(model=pm.multiphase.conduit_conductance,\n",
    "                     propname='throat.conduit_diffusive_conductance',\n",
    "                     throat_conductance='throat.diffusive_conductance')"
   ]
  },
  {
   "cell_type": "markdown",
   "metadata": {},
   "source": [
    "Now for each invasion step we cycle through the principle directions and create ``FickianDiffusion`` objects for each phase and calculate the effective diffusivity.  First we create some variables to store our data in for each principle direction (x, y, z). The boundary planes at each side of the domain are used as boundary pores for the Diffusion algorithm.  "
   ]
  },
  {
   "cell_type": "code",
   "execution_count": 10,
   "metadata": {},
   "outputs": [],
   "source": [
    "bounds = [['front', 'back'], ['left', 'right'], ['top', 'bottom']]\n",
    "diff_air = {'0': [], '1': [], '2': []}\n",
    "diff_water = {'0': [], '1': [], '2': []}\n",
    "sat= []\n",
    "tot_vol = np.sum(pn[\"pore.volume\"]) + np.sum(pn[\"throat.volume\"])\n",
    "for Pc in np.unique(OP_1['pore.invasion_pressure']):\n",
    "    water.update(OP_1.results(Pc=Pc))\n",
    "    air['pore.occupancy'] = 1 - water['pore.occupancy']\n",
    "    air['throat.occupancy'] = 1 - water['throat.occupancy']\n",
    "    phys_air.regenerate_models()\n",
    "    phys_water.regenerate_models()\n",
    "    this_sat = 0\n",
    "    this_sat += np.sum(pn[\"pore.volume\"][water[\"pore.occupancy\"] == 1])\n",
    "    this_sat += np.sum(pn[\"throat.volume\"][water[\"throat.occupancy\"] == 1])\n",
    "    sat.append(this_sat)\n",
    "    for bound_increment in range(len(bounds)):\n",
    "        BC1_pores = pn.pores(labels=bounds[bound_increment][0])\n",
    "        BC2_pores = pn.pores(labels=bounds[bound_increment][1])\n",
    "        FD_1 = op.algorithms.FickianDiffusion(network=pn)\n",
    "        FD_1.setup(phase=air, conductance='throat.conduit_diffusive_conductance')\n",
    "        FD_1.set_value_BC(values=0.6, pores=BC1_pores)\n",
    "        FD_1.set_value_BC(values=0.2, pores=BC2_pores)\n",
    "        FD_1.run()\n",
    "        eff_diff = FD_1.calc_effective_diffusivity(domain_area=2.5e-3, domain_length=0.25e-3)\n",
    "        diff_air[str(bound_increment)].append(eff_diff)\n",
    "        FD_2 = op.algorithms.FickianDiffusion(network=pn)\n",
    "        FD_2.setup(phase=water, conductance='throat.conduit_diffusive_conductance')\n",
    "        FD_2.set_value_BC(values=0.6, pores=BC1_pores)\n",
    "        FD_2.set_value_BC(values=0.2, pores=BC2_pores)\n",
    "        FD_2.run()\n",
    "        eff_diff = FD_2.calc_effective_diffusivity(domain_area=2.5e-3, domain_length=0.25e-3)\n",
    "        diff_water[str(bound_increment)].append(eff_diff)\n",
    "        pn.project.purge_object(FD_1)\n",
    "        pn.project.purge_object(FD_2)"
   ]
  },
  {
   "cell_type": "markdown",
   "metadata": {},
   "source": [
    "The ```results``` method updates the two **Phase** objects with the occupancy at the given capillary pressure (Pc). The **Physics** objects are then regenerated to re-calculate the ```conduit_diffusive_conductance``` property.\n",
    "\n",
    "> **Note** :  Six Diffusion algorithm objects could have been created outside the loop and then run over and over with the updated conductance values and this would possibly save some computational time."
   ]
  },
  {
   "cell_type": "markdown",
   "metadata": {},
   "source": [
    "## Plot the Relative Diffusivity Curves for each direction and Phase\n",
    "\n",
    "Now tidy up the data converting them into Numpy arrays for easy plotting and manipulation and normalize the results by the single phase values:"
   ]
  },
  {
   "cell_type": "code",
   "execution_count": 11,
   "metadata": {},
   "outputs": [],
   "source": [
    "sat = np.asarray(sat)\n",
    "sat /= tot_vol\n",
    "rel_diff_air_x    =  np.asarray(diff_air['0'])\n",
    "rel_diff_air_x   /=  rel_diff_air_x[0]\n",
    "rel_diff_air_y    =  np.asarray(diff_air['1'])\n",
    "rel_diff_air_y   /=  rel_diff_air_y[0]\n",
    "rel_diff_air_z    =  np.asarray(diff_air['2'])\n",
    "rel_diff_air_z   /=  rel_diff_air_z[0]\n",
    "rel_diff_water_x  =  np.asarray(diff_water['0'])\n",
    "rel_diff_water_x /=  rel_diff_water_x[-1]\n",
    "rel_diff_water_y  =  np.asarray(diff_water['1'])\n",
    "rel_diff_water_y /=  rel_diff_water_y[-1]\n",
    "rel_diff_water_z  =  np.asarray(diff_water['2'])\n",
    "rel_diff_water_z /=  rel_diff_water_z[-1]"
   ]
  },
  {
   "cell_type": "markdown",
   "metadata": {},
   "source": [
    "Finally plot the results:"
   ]
  },
  {
   "cell_type": "code",
   "execution_count": 12,
   "metadata": {},
   "outputs": [
    {
     "data": {
      "image/png": "[encoded data removed]",
      "text/plain": [
       "<Figure size 432x288 with 1 Axes>"
      ]
     },
     "metadata": {
      "needs_background": "light"
     },
     "output_type": "display_data"
    }
   ],
   "source": [
    "# NBVAL_IGNORE_OUTPUT\n",
    "plots = []\n",
    "plots.append(plt.plot(sat, rel_diff_air_x, '^-r', label='Dra_x'))\n",
    "plots.append(plt.plot(sat, rel_diff_air_y, '^-g', label='Dra_y'))\n",
    "plots.append(plt.plot(sat, rel_diff_air_z, '^-b', label='Dra_z'))\n",
    "plots.append(plt.plot(sat, rel_diff_water_x, '*-r', label='Drw_x'))\n",
    "plots.append(plt.plot(sat, rel_diff_water_y, '*-g', label='Drw_y'))\n",
    "plots.append(plt.plot(sat, rel_diff_water_z, '*-b', label='Drw_z'))\n",
    "plt.legend();"
   ]
  }
 ],
 "metadata": {
  "@webio": {
   "lastCommId": null,
   "lastKernelId": null
  },
  "kernelspec": {
   "display_name": "Python 3",
   "language": "python",
   "name": "python3"
  },
  "language_info": {
   "codemirror_mode": {
    "name": "ipython",
    "version": 3
   },
   "file_extension": ".py",
   "mimetype": "text/x-python",
   "name": "python",
   "nbconvert_exporter": "python",
   "pygments_lexer": "ipython3",
   "version": "3.8.3"
  }
 },
 "nbformat": 4,
 "nbformat_minor": 2
}
