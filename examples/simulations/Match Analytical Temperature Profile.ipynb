{
 "cells": [
  {
   "cell_type": "markdown",
   "metadata": {},
   "source": [
    "## Thermal Conduction\n",
    "This examples shows how OpenPNM can be used to simulate thermal conduction on a generic grid of nodes. The result obtained from OpenPNM is compared to the analytical result. "
   ]
  },
  {
   "cell_type": "markdown",
   "metadata": {},
   "source": [
    "As usual, start by importing OpenPNM, and the SciPy library."
   ]
  },
  {
   "cell_type": "code",
   "execution_count": 1,
   "metadata": {},
   "outputs": [],
   "source": [
    "%matplotlib inline\n",
    "import numpy as np\n",
    "import scipy as sp\n",
    "import openpnm as op\n",
    "np.random.seed(10)\n",
    "ws = op.Workspace()\n",
    "ws.settings[\"loglevel\"] = 40\n",
    "np.set_printoptions(precision=5)"
   ]
  },
  {
   "cell_type": "markdown",
   "metadata": {},
   "source": [
    "## Generating the Network object\n",
    "\n",
    "Next, 2D a **Network** is generated with dimensions of 10x50 elements. The lattice spacing is given by *Lc*. Boundaries are added all around the edges of **Network** object using the ``add_boundariy_pores`` method. "
   ]
  },
  {
   "cell_type": "code",
   "execution_count": 2,
   "metadata": {},
   "outputs": [],
   "source": [
    "divs = [10, 50]\n",
    "Lc = 0.1  # cm\n",
    "pn = op.network.Cubic(shape=divs, spacing=Lc)\n",
    "pn.add_boundary_pores(['left', 'right', 'front', 'back'])"
   ]
  },
  {
   "cell_type": "markdown",
   "metadata": {},
   "source": [
    "## Creating a Phase object\n",
    "All simulations require a phase object which possess the thermosphysical properties of the system.  In this case, we'll create a generic phase object, call it copper, though it has no properties; we'll add these by hand later."
   ]
  },
  {
   "cell_type": "code",
   "execution_count": 3,
   "metadata": {},
   "outputs": [],
   "source": [
    "# Create Phase object and associate with a Physics object\n",
    "Cu = op.phases.GenericPhase(network=pn)"
   ]
  },
  {
   "cell_type": "markdown",
   "metadata": {},
   "source": [
    "## Assigning Thermal Conductance to Copper\n",
    "In a proper OpenPNM model we would create a Geometry object to manage all the geometrical properties, and a Physics object to calculate the thermal conductance based on the geometric information and the thermophysical properties of copper.  In the present case, however, we'll just calculate the conductance manually and assign it to ```Cu```."
   ]
  },
  {
   "cell_type": "code",
   "execution_count": 4,
   "metadata": {},
   "outputs": [],
   "source": [
    "# Add a unit conductance to all connections\n",
    "Cu['throat.thermal_conductance'] = 1\n",
    "# Overwrite boundary conductances since those connections are half as long\n",
    "Ps = pn.pores('*boundary')\n",
    "Ts = pn.find_neighbor_throats(pores=Ps)\n",
    "Cu['throat.thermal_conductance'][Ts] = 2"
   ]
  },
  {
   "cell_type": "markdown",
   "metadata": {},
   "source": [
    "## Generating the algorithm objects and running the simulation\n",
    "The last step in the OpenPNM simulation involves the generation of a **Algorithm** object and running the simulation. "
   ]
  },
  {
   "cell_type": "code",
   "execution_count": 5,
   "metadata": {},
   "outputs": [],
   "source": [
    "# Setup Algorithm object\n",
    "alg = op.algorithms.FourierConduction(network=pn)\n",
    "alg.setup(phase=Cu)\n",
    "inlets = pn.pores('right_boundary')\n",
    "outlets = pn.pores(['front_boundary', 'back_boundary', 'right_boundary'])\n",
    "T_in = 30*np.sin(np.pi*pn['pore.coords'][inlets, 1]/5)+50\n",
    "alg.set_value_BC(values=T_in, pores=inlets)\n",
    "alg.set_value_BC(values=50, pores=outlets)\n",
    "alg.run()"
   ]
  },
  {
   "cell_type": "markdown",
   "metadata": {},
   "source": [
    "This is the last step usually required in a OpenPNM simulation. The algorithm was run, and now the simulation data obtained can be analyzed. For illustrative purposes, the results obtained using OpenPNM shall be compared to an analytical solution of the problem in the following."
   ]
  },
  {
   "cell_type": "markdown",
   "metadata": {},
   "source": [
    "First let's rehape the 'pore.temperature' array into the shape of the network while also extracting only the internal pores to avoid showing the boundaries."
   ]
  },
  {
   "cell_type": "code",
   "execution_count": 6,
   "metadata": {},
   "outputs": [
    {
     "data": {
      "image/png": "[encoded data removed]",
      "text/plain": [
       "<Figure size 720x360 with 2 Axes>"
      ]
     },
     "metadata": {
      "needs_background": "light"
     },
     "output_type": "display_data"
    }
   ],
   "source": [
    "# NBVAL_IGNORE_OUTPUT\n",
    "import matplotlib.pyplot as plt\n",
    "sim = alg['pore.temperature'][pn.pores('internal')]\n",
    "temp_map = np.reshape(a=sim, newshape=divs)\n",
    "plt.subplots(1, 1, figsize=(10, 5))\n",
    "plt.imshow(temp_map, cmap=plt.cm.plasma);\n",
    "plt.colorbar();"
   ]
  },
  {
   "cell_type": "markdown",
   "metadata": {},
   "source": [
    "Also, let's take a look at the average temperature:"
   ]
  },
  {
   "cell_type": "code",
   "execution_count": 7,
   "metadata": {},
   "outputs": [
    {
     "name": "stdout",
     "output_type": "stream",
     "text": [
      "T_average (numerical): 50.00000\n"
     ]
    }
   ],
   "source": [
    "print(f\"T_average (numerical): {alg['pore.temperature'][pn.pores('internal')].mean():.5f}\")"
   ]
  },
  {
   "cell_type": "markdown",
   "metadata": {},
   "source": [
    "The analytical solution is computed as well, and the result is the same shape as the network (including the boundary pores). "
   ]
  },
  {
   "cell_type": "code",
   "execution_count": 8,
   "metadata": {},
   "outputs": [],
   "source": [
    "# Calculate analytical solution over the same domain spacing\n",
    "X = pn['pore.coords'][:, 0]\n",
    "Y = pn['pore.coords'][:, 1]\n",
    "soln = 30*np.sinh(np.pi*X/5)/np.sinh(np.pi/5)*np.sin(np.pi*Y/5) + 50\n",
    "soln = soln[pn.pores('internal')]\n",
    "soln = np.reshape(soln, (divs[0], divs[1]))"
   ]
  },
  {
   "cell_type": "code",
   "execution_count": 9,
   "metadata": {},
   "outputs": [
    {
     "data": {
      "image/png": "[encoded data removed]",
      "text/plain": [
       "<Figure size 720x360 with 2 Axes>"
      ]
     },
     "metadata": {
      "needs_background": "light"
     },
     "output_type": "display_data"
    }
   ],
   "source": [
    "# NBVAL_IGNORE_OUTPUT\n",
    "plt.subplots(1, 1, figsize=(10, 5))\n",
    "plt.imshow(soln, cmap=plt.cm.plasma);\n",
    "plt.colorbar();"
   ]
  },
  {
   "cell_type": "markdown",
   "metadata": {},
   "source": [
    "Also, let's take a look at the average temperature:"
   ]
  },
  {
   "cell_type": "code",
   "execution_count": 10,
   "metadata": {},
   "outputs": [
    {
     "name": "stdout",
     "output_type": "stream",
     "text": [
      "T_average (analytical): 59.24706\n"
     ]
    }
   ],
   "source": [
    "print(f\"T_average (analytical): {soln.mean():.5f}\")"
   ]
  },
  {
   "cell_type": "markdown",
   "metadata": {},
   "source": [
    "Both the analytical solution and OpenPNM simulation can be subtracted from each other to yield the difference in both values."
   ]
  },
  {
   "cell_type": "code",
   "execution_count": 11,
   "metadata": {},
   "outputs": [
    {
     "data": {
      "image/png": "[encoded data removed]",
      "text/plain": [
       "<Figure size 720x360 with 2 Axes>"
      ]
     },
     "metadata": {
      "needs_background": "light"
     },
     "output_type": "display_data"
    }
   ],
   "source": [
    "# NBVAL_IGNORE_OUTPUT\n",
    "diff = soln - temp_map\n",
    "plt.subplots(1, 1, figsize=(10, 5))\n",
    "plt.imshow(diff, cmap=plt.cm.plasma);\n",
    "plt.colorbar();"
   ]
  },
  {
   "cell_type": "code",
   "execution_count": 12,
   "metadata": {},
   "outputs": [
    {
     "name": "stdout",
     "output_type": "stream",
     "text": [
      "Minimum error: 0.04416, maximum error: 28.30817\n"
     ]
    }
   ],
   "source": [
    "print(f\"Minimum error: {diff.min():.5f}, maximum error: {diff.max():.5f}\")"
   ]
  },
  {
   "cell_type": "markdown",
   "metadata": {},
   "source": [
    "The maximum error is 0.01 degrees on a 50 degree profile, which is quite good and thus demonstrates that the OpenPNM finite difference approach is versatile despite being simple."
   ]
  }
 ],
 "metadata": {
  "kernelspec": {
   "display_name": "Python 3",
   "language": "python",
   "name": "python3"
  },
  "language_info": {
   "codemirror_mode": {
    "name": "ipython",
    "version": 3
   },
   "file_extension": ".py",
   "mimetype": "text/x-python",
   "name": "python",
   "nbconvert_exporter": "python",
   "pygments_lexer": "ipython3",
   "version": "3.8.3"
  }
 },
 "nbformat": 4,
 "nbformat_minor": 2
}
